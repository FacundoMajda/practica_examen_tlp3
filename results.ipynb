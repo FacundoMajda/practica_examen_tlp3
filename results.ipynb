{
 "cells": [
  {
   "cell_type": "code",
   "execution_count": 3,
   "id": "da5fb761",
   "metadata": {},
   "outputs": [],
   "source": [
    "import pandas as pd\n",
    "import numpy as np\n"
   ]
  },
  {
   "cell_type": "code",
   "execution_count": 4,
   "id": "2da6f119",
   "metadata": {},
   "outputs": [
    {
     "data": {
      "application/vnd.microsoft.datawrangler.viewer.v0+json": {
       "columns": [
        {
         "name": "index",
         "rawType": "int64",
         "type": "integer"
        },
        {
         "name": "estudiante",
         "rawType": "object",
         "type": "string"
        },
        {
         "name": "Materia",
         "rawType": "object",
         "type": "string"
        },
        {
         "name": "Parcial 1",
         "rawType": "object",
         "type": "unknown"
        },
        {
         "name": "Parcial 2",
         "rawType": "object",
         "type": "unknown"
        },
        {
         "name": "Final",
         "rawType": "object",
         "type": "unknown"
        },
        {
         "name": "Asistencia",
         "rawType": "object",
         "type": "string"
        }
       ],
       "conversionMethod": "pd.DataFrame",
       "ref": "e38d06e6-3f3a-4ae6-964d-d98afc39166b",
       "rows": [
        [
         "0",
         "ana pérez",
         "matematicas",
         "8",
         "7.5",
         "9",
         "95%"
        ],
        [
         "1",
         "carlos lópez",
         "fisica",
         "6.2",
         "7",
         null,
         "88%"
        ],
        [
         "2",
         "maría gómez",
         "quimica",
         "9",
         "8.8",
         "9.5",
         "100%"
        ],
        [
         "3",
         "pedro rodríguez",
         "historia",
         "7.5",
         "6",
         "7",
         "75"
        ],
        [
         "4",
         "laura vargas",
         "matematicas",
         " ",
         "9.2",
         "8.5",
         "92%"
        ],
        [
         "5",
         "javier soto",
         "fisica",
         "5.8",
         "6.5",
         "6",
         "80%"
        ],
        [
         "6",
         "sofia díaz",
         "ciencias sociales",
         "9.5",
         "9.1",
         " ",
         "98%"
        ],
        [
         "7",
         "miguel fernández",
         "literatura universal",
         "8",
         "7.8",
         "8.2",
         "85%"
        ],
        [
         "8",
         "valentina ruiz",
         "matematicas",
         "7",
         " ",
         "7.8",
         "90%"
        ],
        [
         "9",
         "diego castro",
         "fisica",
         "6.8",
         "7.2",
         "7.5",
         "93%"
        ],
        [
         "10",
         "isabella torres",
         "quimica",
         "9.2",
         "8.5",
         "9",
         "97%"
        ],
        [
         "11",
         "sebastián vargas",
         "historia",
         "7.9",
         "6.3",
         " ",
         "70%"
        ],
        [
         "12",
         "martina soto",
         "matematicas",
         "8.5",
         "8.9",
         "9.1",
         "96%"
        ],
        [
         "13",
         "mateo díaz",
         "programacion basica",
         " ",
         "5.9",
         "6.3",
         "82%"
        ],
        [
         "14",
         "emilia ruiz",
         "quimica",
         "9.8",
         "9.5",
         "9.9",
         "101%"
        ],
        [
         "15",
         "benjamín castro",
         "historia",
         "6.5",
         "7.1",
         "6.8",
         "78%"
        ],
        [
         "16",
         "abril gómez",
         "matematicas",
         "7.2",
         "8.1",
         "8.6",
         "91%"
        ],
        [
         "17",
         "lucas pérez",
         "fisica",
         "5.5",
         "6.8",
         "5.9",
         "79%"
        ],
        [
         "18",
         "camila rodríguez",
         "quimica",
         "9.1",
         "9.3",
         null,
         "99%"
        ],
        [
         "19",
         "juan vargas",
         "historia",
         "8.3",
         "7.5",
         "8.8",
         "87%"
        ],
        [
         "20",
         "florencia soto",
         "matematicas",
         "6.9",
         null,
         "7.1",
         "84%"
        ],
        [
         "21",
         "nicolás díaz",
         "fisica",
         "7.1",
         "6.1",
         "6.5",
         "81%"
        ],
        [
         "22",
         "agustín fernández",
         "quimica",
         "8.7",
         "8.9",
         "9.2",
         "94%"
        ],
        [
         "23",
         "valeria ruiz",
         "historia",
         "7.6",
         "6.7",
         "7.3",
         "76%"
        ],
        [
         "24",
         "máximo castro",
         "matematicas",
         "9.3",
         "8.6",
         "9.5",
         "97%"
        ],
        [
         "25",
         "lucía torres",
         "fisica",
         null,
         "7.9",
         "8.1",
         "89%"
        ],
        [
         "26",
         "joaquín vargas",
         "quimica",
         "8.9",
         "9.0",
         "8.7",
         "93%"
        ],
        [
         "27",
         "renata soto",
         "historia",
         "6.1",
         "5.8",
         "6.4",
         "72%"
        ],
        [
         "28",
         "thiago díaz",
         "matematicas",
         "7.8",
         "7.3",
         null,
         "86%"
        ],
        [
         "29",
         "delfina fernández",
         "fisica",
         "6.6",
         null,
         "7.0",
         "83%"
        ],
        [
         "30",
         "santino ruiz",
         "quimica",
         "9.4",
         "9.6",
         "9.7",
         "102%"
        ],
        [
         "31",
         "catalina castro",
         "historia",
         "8.1",
         "7.7",
         "8.4",
         "88%"
        ],
        [
         "32",
         "benicio torres",
         "matematicas",
         " ",
         "8.4",
         "8.9",
         "94%"
        ],
        [
         "33",
         "amelia vargas",
         "fisica",
         "5.9",
         "6.2",
         "5.7",
         "77%"
        ],
        [
         "34",
         "lorenzo soto",
         "quimica",
         "9.6",
         "9.2",
         "9.3",
         "98%"
        ],
        [
         "35",
         "josefina díaz",
         "historia",
         "7.3",
         "6.9",
         "7.6",
         "80%"
        ],
        [
         "36",
         "bautista fernández",
         "matematicas",
         "8.2",
         null,
         "8.5",
         "92%"
        ],
        [
         "37",
         "emma ruiz",
         "fisica",
         "6.4",
         "7.5",
         "6.9",
         "85%"
        ],
        [
         "38",
         "mateo castro",
         "quimica",
         "9.0",
         "8.7",
         null,
         "95%"
        ],
        [
         "39",
         "sofía torres",
         "historia",
         "7.7",
         "6.5",
         "7.1",
         "73%"
        ],
        [
         "40",
         "felipe vargas",
         "matematicas",
         " ",
         "9.1",
         "9.4",
         "99%"
        ],
        [
         "41",
         "victoria soto",
         "fisica",
         "5.7",
         "6.0",
         "6.2",
         "81%"
        ],
        [
         "42",
         "joaquín díaz",
         "quimica",
         "8.8",
         "9.4",
         "8.9",
         "96%"
        ],
        [
         "43",
         "martina fernández",
         "historia",
         "7.0",
         "7.9",
         "7.4",
         "89%"
        ],
        [
         "44",
         "bruno ruiz",
         "matematicas",
         "8.4",
         "8.2",
         null,
         "93%"
        ],
        [
         "45",
         "agustina castro",
         "fisica",
         "6.9",
         null,
         "7.3",
         "86%"
        ],
        [
         "46",
         "jerónimo torres",
         "quimica",
         "9.1",
         "8.8",
         "9.5",
         "103%"
        ],
        [
         "47",
         "valentina vargas",
         "historia",
         "7.4",
         "6.6",
         "7.8",
         "71%"
        ],
        [
         "48",
         "lautaro soto",
         "matematicas",
         "7.1",
         " ",
         "7.5",
         "87%"
        ],
        [
         "49",
         "pilar díaz",
         "fisica",
         null,
         "7.0",
         "6.7",
         "84%"
        ]
       ],
       "shape": {
        "columns": 6,
        "rows": 100
       }
      },
      "text/html": [
       "<div>\n",
       "<style scoped>\n",
       "    .dataframe tbody tr th:only-of-type {\n",
       "        vertical-align: middle;\n",
       "    }\n",
       "\n",
       "    .dataframe tbody tr th {\n",
       "        vertical-align: top;\n",
       "    }\n",
       "\n",
       "    .dataframe thead th {\n",
       "        text-align: right;\n",
       "    }\n",
       "</style>\n",
       "<table border=\"1\" class=\"dataframe\">\n",
       "  <thead>\n",
       "    <tr style=\"text-align: right;\">\n",
       "      <th></th>\n",
       "      <th>estudiante</th>\n",
       "      <th>Materia</th>\n",
       "      <th>Parcial 1</th>\n",
       "      <th>Parcial 2</th>\n",
       "      <th>Final</th>\n",
       "      <th>Asistencia</th>\n",
       "    </tr>\n",
       "  </thead>\n",
       "  <tbody>\n",
       "    <tr>\n",
       "      <th>0</th>\n",
       "      <td>ana pérez</td>\n",
       "      <td>matematicas</td>\n",
       "      <td>8</td>\n",
       "      <td>7.5</td>\n",
       "      <td>9</td>\n",
       "      <td>95%</td>\n",
       "    </tr>\n",
       "    <tr>\n",
       "      <th>1</th>\n",
       "      <td>carlos lópez</td>\n",
       "      <td>fisica</td>\n",
       "      <td>6.2</td>\n",
       "      <td>7</td>\n",
       "      <td>NaN</td>\n",
       "      <td>88%</td>\n",
       "    </tr>\n",
       "    <tr>\n",
       "      <th>2</th>\n",
       "      <td>maría gómez</td>\n",
       "      <td>quimica</td>\n",
       "      <td>9</td>\n",
       "      <td>8.8</td>\n",
       "      <td>9.5</td>\n",
       "      <td>100%</td>\n",
       "    </tr>\n",
       "    <tr>\n",
       "      <th>3</th>\n",
       "      <td>pedro rodríguez</td>\n",
       "      <td>historia</td>\n",
       "      <td>7.5</td>\n",
       "      <td>6</td>\n",
       "      <td>7</td>\n",
       "      <td>75</td>\n",
       "    </tr>\n",
       "    <tr>\n",
       "      <th>4</th>\n",
       "      <td>laura vargas</td>\n",
       "      <td>matematicas</td>\n",
       "      <td></td>\n",
       "      <td>9.2</td>\n",
       "      <td>8.5</td>\n",
       "      <td>92%</td>\n",
       "    </tr>\n",
       "    <tr>\n",
       "      <th>...</th>\n",
       "      <td>...</td>\n",
       "      <td>...</td>\n",
       "      <td>...</td>\n",
       "      <td>...</td>\n",
       "      <td>...</td>\n",
       "      <td>...</td>\n",
       "    </tr>\n",
       "    <tr>\n",
       "      <th>95</th>\n",
       "      <td>josefina torres</td>\n",
       "      <td>historia</td>\n",
       "      <td>7.4</td>\n",
       "      <td>6.8</td>\n",
       "      <td>7.2</td>\n",
       "      <td>81%</td>\n",
       "    </tr>\n",
       "    <tr>\n",
       "      <th>96</th>\n",
       "      <td>bautista vargas</td>\n",
       "      <td>matematicas</td>\n",
       "      <td>8.7</td>\n",
       "      <td>NaN</td>\n",
       "      <td>8.5</td>\n",
       "      <td>92%</td>\n",
       "    </tr>\n",
       "    <tr>\n",
       "      <th>97</th>\n",
       "      <td>emma soto</td>\n",
       "      <td>fisica</td>\n",
       "      <td>6.6</td>\n",
       "      <td>7.0</td>\n",
       "      <td>6.4</td>\n",
       "      <td>83%</td>\n",
       "    </tr>\n",
       "    <tr>\n",
       "      <th>98</th>\n",
       "      <td>mateo díaz</td>\n",
       "      <td>quimica</td>\n",
       "      <td>9.5</td>\n",
       "      <td>9.7</td>\n",
       "      <td></td>\n",
       "      <td>98%</td>\n",
       "    </tr>\n",
       "    <tr>\n",
       "      <th>99</th>\n",
       "      <td>sofía fernández</td>\n",
       "      <td>historia</td>\n",
       "      <td>7.1</td>\n",
       "      <td>7.6</td>\n",
       "      <td>7.5</td>\n",
       "      <td>87%</td>\n",
       "    </tr>\n",
       "  </tbody>\n",
       "</table>\n",
       "<p>100 rows × 6 columns</p>\n",
       "</div>"
      ],
      "text/plain": [
       "         estudiante      Materia Parcial 1 Parcial 2 Final Asistencia\n",
       "0         ana pérez  matematicas         8       7.5     9        95%\n",
       "1      carlos lópez       fisica       6.2         7   NaN        88%\n",
       "2       maría gómez      quimica         9       8.8   9.5       100%\n",
       "3   pedro rodríguez     historia       7.5         6     7         75\n",
       "4      laura vargas  matematicas                 9.2   8.5        92%\n",
       "..              ...          ...       ...       ...   ...        ...\n",
       "95  josefina torres     historia       7.4       6.8   7.2        81%\n",
       "96  bautista vargas  matematicas       8.7       NaN   8.5        92%\n",
       "97        emma soto       fisica       6.6       7.0   6.4        83%\n",
       "98       mateo díaz      quimica       9.5       9.7              98%\n",
       "99  sofía fernández     historia       7.1       7.6   7.5        87%\n",
       "\n",
       "[100 rows x 6 columns]"
      ]
     },
     "execution_count": 4,
     "metadata": {},
     "output_type": "execute_result"
    }
   ],
   "source": [
    "#se carga el data frame\n",
    "df = pd.read_csv('./datasets_calificaciones.csv')\n",
    "df"
   ]
  },
  {
   "cell_type": "code",
   "execution_count": 6,
   "id": "2a85ece8",
   "metadata": {},
   "outputs": [
    {
     "name": "stdout",
     "output_type": "stream",
     "text": [
      "<class 'pandas.core.frame.DataFrame'>\n",
      "RangeIndex: 100 entries, 0 to 99\n",
      "Data columns (total 6 columns):\n",
      " #   Column      Non-Null Count  Dtype \n",
      "---  ------      --------------  ----- \n",
      " 0   estudiante  100 non-null    object\n",
      " 1   Materia     100 non-null    object\n",
      " 2   Parcial 1   95 non-null     object\n",
      " 3   Parcial 2   90 non-null     object\n",
      " 4   Final       89 non-null     object\n",
      " 5   Asistencia  100 non-null    object\n",
      "dtypes: object(6)\n",
      "memory usage: 4.8+ KB\n"
     ]
    },
    {
     "data": {
      "application/vnd.microsoft.datawrangler.viewer.v0+json": {
       "columns": [
        {
         "name": "index",
         "rawType": "object",
         "type": "string"
        },
        {
         "name": "estudiante",
         "rawType": "object",
         "type": "unknown"
        },
        {
         "name": "Materia",
         "rawType": "object",
         "type": "unknown"
        },
        {
         "name": "Parcial 1",
         "rawType": "object",
         "type": "unknown"
        },
        {
         "name": "Parcial 2",
         "rawType": "object",
         "type": "unknown"
        },
        {
         "name": "Final",
         "rawType": "object",
         "type": "unknown"
        },
        {
         "name": "Asistencia",
         "rawType": "object",
         "type": "unknown"
        }
       ],
       "conversionMethod": "pd.DataFrame",
       "ref": "fc834afb-cc1a-453e-95fa-55afb32d40e1",
       "rows": [
        [
         "count",
         "100",
         "100",
         "95",
         "90",
         "89",
         "100"
        ],
        [
         "unique",
         "96",
         "7",
         "49",
         "45",
         "46",
         "35"
        ],
        [
         "top",
         "joaquín ruiz",
         "matematicas",
         " ",
         "7.5",
         "9.5",
         "99%"
        ],
        [
         "freq",
         "2",
         "25",
         "7",
         "5",
         "4",
         "5"
        ]
       ],
       "shape": {
        "columns": 6,
        "rows": 4
       }
      },
      "text/html": [
       "<div>\n",
       "<style scoped>\n",
       "    .dataframe tbody tr th:only-of-type {\n",
       "        vertical-align: middle;\n",
       "    }\n",
       "\n",
       "    .dataframe tbody tr th {\n",
       "        vertical-align: top;\n",
       "    }\n",
       "\n",
       "    .dataframe thead th {\n",
       "        text-align: right;\n",
       "    }\n",
       "</style>\n",
       "<table border=\"1\" class=\"dataframe\">\n",
       "  <thead>\n",
       "    <tr style=\"text-align: right;\">\n",
       "      <th></th>\n",
       "      <th>estudiante</th>\n",
       "      <th>Materia</th>\n",
       "      <th>Parcial 1</th>\n",
       "      <th>Parcial 2</th>\n",
       "      <th>Final</th>\n",
       "      <th>Asistencia</th>\n",
       "    </tr>\n",
       "  </thead>\n",
       "  <tbody>\n",
       "    <tr>\n",
       "      <th>count</th>\n",
       "      <td>100</td>\n",
       "      <td>100</td>\n",
       "      <td>95</td>\n",
       "      <td>90</td>\n",
       "      <td>89</td>\n",
       "      <td>100</td>\n",
       "    </tr>\n",
       "    <tr>\n",
       "      <th>unique</th>\n",
       "      <td>96</td>\n",
       "      <td>7</td>\n",
       "      <td>49</td>\n",
       "      <td>45</td>\n",
       "      <td>46</td>\n",
       "      <td>35</td>\n",
       "    </tr>\n",
       "    <tr>\n",
       "      <th>top</th>\n",
       "      <td>joaquín ruiz</td>\n",
       "      <td>matematicas</td>\n",
       "      <td></td>\n",
       "      <td>7.5</td>\n",
       "      <td>9.5</td>\n",
       "      <td>99%</td>\n",
       "    </tr>\n",
       "    <tr>\n",
       "      <th>freq</th>\n",
       "      <td>2</td>\n",
       "      <td>25</td>\n",
       "      <td>7</td>\n",
       "      <td>5</td>\n",
       "      <td>4</td>\n",
       "      <td>5</td>\n",
       "    </tr>\n",
       "  </tbody>\n",
       "</table>\n",
       "</div>"
      ],
      "text/plain": [
       "          estudiante      Materia Parcial 1 Parcial 2 Final Asistencia\n",
       "count            100          100        95        90    89        100\n",
       "unique            96            7        49        45    46         35\n",
       "top     joaquín ruiz  matematicas                 7.5   9.5        99%\n",
       "freq               2           25         7         5     4          5"
      ]
     },
     "execution_count": 6,
     "metadata": {},
     "output_type": "execute_result"
    }
   ],
   "source": [
    "#info basica del df\n",
    "df.info()\n",
    "df.describe()"
   ]
  },
  {
   "cell_type": "code",
   "execution_count": null,
   "id": "cf1e2693",
   "metadata": {},
   "outputs": [
    {
     "name": "stdout",
     "output_type": "stream",
     "text": [
      "<class 'pandas.core.frame.DataFrame'>\n",
      "RangeIndex: 100 entries, 0 to 99\n",
      "Data columns (total 6 columns):\n",
      " #   Column      Non-Null Count  Dtype \n",
      "---  ------      --------------  ----- \n",
      " 0   estudiante  100 non-null    object\n",
      " 1   Materia     100 non-null    object\n",
      " 2   Parcial 1   95 non-null     object\n",
      " 3   Parcial 2   90 non-null     object\n",
      " 4   Final       89 non-null     object\n",
      " 5   Asistencia  100 non-null    object\n",
      "dtypes: object(6)\n",
      "memory usage: 4.8+ KB\n"
     ]
    },
    {
     "data": {
      "application/vnd.microsoft.datawrangler.viewer.v0+json": {
       "columns": [
        {
         "name": "index",
         "rawType": "object",
         "type": "string"
        },
        {
         "name": "estudiante",
         "rawType": "object",
         "type": "unknown"
        },
        {
         "name": "Materia",
         "rawType": "object",
         "type": "unknown"
        },
        {
         "name": "Parcial 1",
         "rawType": "object",
         "type": "unknown"
        },
        {
         "name": "Parcial 2",
         "rawType": "object",
         "type": "unknown"
        },
        {
         "name": "Final",
         "rawType": "object",
         "type": "unknown"
        },
        {
         "name": "Asistencia",
         "rawType": "object",
         "type": "unknown"
        }
       ],
       "conversionMethod": "pd.DataFrame",
       "ref": "111de911-46b8-400b-b9db-a73608cf2fce",
       "rows": [
        [
         "count",
         "100",
         "100",
         "95",
         "90",
         "89",
         "100"
        ],
        [
         "unique",
         "96",
         "7",
         "49",
         "45",
         "46",
         "35"
        ],
        [
         "top",
         "joaquín ruiz",
         "matematicas",
         " ",
         "7.5",
         "9.5",
         "99%"
        ],
        [
         "freq",
         "2",
         "25",
         "7",
         "5",
         "4",
         "5"
        ]
       ],
       "shape": {
        "columns": 6,
        "rows": 4
       }
      },
      "text/html": [
       "<div>\n",
       "<style scoped>\n",
       "    .dataframe tbody tr th:only-of-type {\n",
       "        vertical-align: middle;\n",
       "    }\n",
       "\n",
       "    .dataframe tbody tr th {\n",
       "        vertical-align: top;\n",
       "    }\n",
       "\n",
       "    .dataframe thead th {\n",
       "        text-align: right;\n",
       "    }\n",
       "</style>\n",
       "<table border=\"1\" class=\"dataframe\">\n",
       "  <thead>\n",
       "    <tr style=\"text-align: right;\">\n",
       "      <th></th>\n",
       "      <th>estudiante</th>\n",
       "      <th>Materia</th>\n",
       "      <th>Parcial 1</th>\n",
       "      <th>Parcial 2</th>\n",
       "      <th>Final</th>\n",
       "      <th>Asistencia</th>\n",
       "    </tr>\n",
       "  </thead>\n",
       "  <tbody>\n",
       "    <tr>\n",
       "      <th>count</th>\n",
       "      <td>100</td>\n",
       "      <td>100</td>\n",
       "      <td>95</td>\n",
       "      <td>90</td>\n",
       "      <td>89</td>\n",
       "      <td>100</td>\n",
       "    </tr>\n",
       "    <tr>\n",
       "      <th>unique</th>\n",
       "      <td>96</td>\n",
       "      <td>7</td>\n",
       "      <td>49</td>\n",
       "      <td>45</td>\n",
       "      <td>46</td>\n",
       "      <td>35</td>\n",
       "    </tr>\n",
       "    <tr>\n",
       "      <th>top</th>\n",
       "      <td>joaquín ruiz</td>\n",
       "      <td>matematicas</td>\n",
       "      <td></td>\n",
       "      <td>7.5</td>\n",
       "      <td>9.5</td>\n",
       "      <td>99%</td>\n",
       "    </tr>\n",
       "    <tr>\n",
       "      <th>freq</th>\n",
       "      <td>2</td>\n",
       "      <td>25</td>\n",
       "      <td>7</td>\n",
       "      <td>5</td>\n",
       "      <td>4</td>\n",
       "      <td>5</td>\n",
       "    </tr>\n",
       "  </tbody>\n",
       "</table>\n",
       "</div>"
      ],
      "text/plain": [
       "          estudiante      Materia Parcial 1 Parcial 2 Final Asistencia\n",
       "count            100          100        95        90    89        100\n",
       "unique            96            7        49        45    46         35\n",
       "top     joaquín ruiz  matematicas                 7.5   9.5        99%\n",
       "freq               2           25         7         5     4          5"
      ]
     },
     "metadata": {},
     "output_type": "display_data"
    }
   ],
   "source": [
    "df.head()"
   ]
  },
  {
   "cell_type": "code",
   "execution_count": 7,
   "id": "39a952a5",
   "metadata": {},
   "outputs": [
    {
     "data": {
      "application/vnd.microsoft.datawrangler.viewer.v0+json": {
       "columns": [
        {
         "name": "index",
         "rawType": "int64",
         "type": "integer"
        },
        {
         "name": "estudiante",
         "rawType": "object",
         "type": "string"
        },
        {
         "name": "Materia",
         "rawType": "object",
         "type": "string"
        },
        {
         "name": "Parcial 1",
         "rawType": "object",
         "type": "string"
        },
        {
         "name": "Parcial 2",
         "rawType": "object",
         "type": "unknown"
        },
        {
         "name": "Final",
         "rawType": "object",
         "type": "string"
        },
        {
         "name": "Asistencia",
         "rawType": "object",
         "type": "string"
        }
       ],
       "conversionMethod": "pd.DataFrame",
       "ref": "ed4b2225-b29b-4b12-bb95-3a3a861baf7a",
       "rows": [
        [
         "95",
         "josefina torres",
         "historia",
         "7.4",
         "6.8",
         "7.2",
         "81%"
        ],
        [
         "96",
         "bautista vargas",
         "matematicas",
         "8.7",
         null,
         "8.5",
         "92%"
        ],
        [
         "97",
         "emma soto",
         "fisica",
         "6.6",
         "7.0",
         "6.4",
         "83%"
        ],
        [
         "98",
         "mateo díaz",
         "quimica",
         "9.5",
         "9.7",
         " ",
         "98%"
        ],
        [
         "99",
         "sofía fernández",
         "historia",
         "7.1",
         "7.6",
         "7.5",
         "87%"
        ]
       ],
       "shape": {
        "columns": 6,
        "rows": 5
       }
      },
      "text/html": [
       "<div>\n",
       "<style scoped>\n",
       "    .dataframe tbody tr th:only-of-type {\n",
       "        vertical-align: middle;\n",
       "    }\n",
       "\n",
       "    .dataframe tbody tr th {\n",
       "        vertical-align: top;\n",
       "    }\n",
       "\n",
       "    .dataframe thead th {\n",
       "        text-align: right;\n",
       "    }\n",
       "</style>\n",
       "<table border=\"1\" class=\"dataframe\">\n",
       "  <thead>\n",
       "    <tr style=\"text-align: right;\">\n",
       "      <th></th>\n",
       "      <th>estudiante</th>\n",
       "      <th>Materia</th>\n",
       "      <th>Parcial 1</th>\n",
       "      <th>Parcial 2</th>\n",
       "      <th>Final</th>\n",
       "      <th>Asistencia</th>\n",
       "    </tr>\n",
       "  </thead>\n",
       "  <tbody>\n",
       "    <tr>\n",
       "      <th>95</th>\n",
       "      <td>josefina torres</td>\n",
       "      <td>historia</td>\n",
       "      <td>7.4</td>\n",
       "      <td>6.8</td>\n",
       "      <td>7.2</td>\n",
       "      <td>81%</td>\n",
       "    </tr>\n",
       "    <tr>\n",
       "      <th>96</th>\n",
       "      <td>bautista vargas</td>\n",
       "      <td>matematicas</td>\n",
       "      <td>8.7</td>\n",
       "      <td>NaN</td>\n",
       "      <td>8.5</td>\n",
       "      <td>92%</td>\n",
       "    </tr>\n",
       "    <tr>\n",
       "      <th>97</th>\n",
       "      <td>emma soto</td>\n",
       "      <td>fisica</td>\n",
       "      <td>6.6</td>\n",
       "      <td>7.0</td>\n",
       "      <td>6.4</td>\n",
       "      <td>83%</td>\n",
       "    </tr>\n",
       "    <tr>\n",
       "      <th>98</th>\n",
       "      <td>mateo díaz</td>\n",
       "      <td>quimica</td>\n",
       "      <td>9.5</td>\n",
       "      <td>9.7</td>\n",
       "      <td></td>\n",
       "      <td>98%</td>\n",
       "    </tr>\n",
       "    <tr>\n",
       "      <th>99</th>\n",
       "      <td>sofía fernández</td>\n",
       "      <td>historia</td>\n",
       "      <td>7.1</td>\n",
       "      <td>7.6</td>\n",
       "      <td>7.5</td>\n",
       "      <td>87%</td>\n",
       "    </tr>\n",
       "  </tbody>\n",
       "</table>\n",
       "</div>"
      ],
      "text/plain": [
       "         estudiante      Materia Parcial 1 Parcial 2 Final Asistencia\n",
       "95  josefina torres     historia       7.4       6.8   7.2        81%\n",
       "96  bautista vargas  matematicas       8.7       NaN   8.5        92%\n",
       "97        emma soto       fisica       6.6       7.0   6.4        83%\n",
       "98       mateo díaz      quimica       9.5       9.7              98%\n",
       "99  sofía fernández     historia       7.1       7.6   7.5        87%"
      ]
     },
     "execution_count": 7,
     "metadata": {},
     "output_type": "execute_result"
    }
   ],
   "source": [
    "df.tail()"
   ]
  },
  {
   "cell_type": "code",
   "execution_count": 16,
   "id": "f1147813",
   "metadata": {},
   "outputs": [
    {
     "name": "stdout",
     "output_type": "stream",
     "text": [
      "shape: (100, 6)\n",
      "columns: Index(['estudiante', 'Materia', 'Parcial 1', 'Parcial 2', 'Final',\n",
      "       'Asistencia'],\n",
      "      dtype='object')\n",
      "dtypes: estudiante    object\n",
      "Materia       object\n",
      "Parcial 1     object\n",
      "Parcial 2     object\n",
      "Final         object\n",
      "Asistencia    object\n",
      "dtype: object\n"
     ]
    }
   ],
   "source": [
    "print(f'shape: {df.shape}')\n",
    "print(f'columns: {df.columns}')\n",
    "\n",
    "print(f'dtypes: {df.dtypes}')"
   ]
  },
  {
   "cell_type": "code",
   "execution_count": null,
   "id": "93539dca",
   "metadata": {},
   "outputs": [
    {
     "data": {
      "text/plain": [
       "estudiante     0\n",
       "Materia        0\n",
       "Parcial 1      5\n",
       "Parcial 2     10\n",
       "Final         11\n",
       "Asistencia     0\n",
       "dtype: int64"
      ]
     },
     "execution_count": 20,
     "metadata": {},
     "output_type": "execute_result"
    }
   ],
   "source": [
    "#contar valores nulos por columna\n",
    "df.isnull().sum()"
   ]
  }
 ],
 "metadata": {
  "kernelspec": {
   "display_name": "base",
   "language": "python",
   "name": "python3"
  },
  "language_info": {
   "codemirror_mode": {
    "name": "ipython",
    "version": 3
   },
   "file_extension": ".py",
   "mimetype": "text/x-python",
   "name": "python",
   "nbconvert_exporter": "python",
   "pygments_lexer": "ipython3",
   "version": "3.12.7"
  }
 },
 "nbformat": 4,
 "nbformat_minor": 5
}
