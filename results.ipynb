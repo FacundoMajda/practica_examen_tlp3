{
 "cells": [
  {
   "cell_type": "markdown",
   "id": "5ed4184a",
   "metadata": {},
   "source": [
    "## Modelo de Examen Practico - TLP3 - Python para Ciencia de Datos\n",
    "\n",
    "### Se importan las librerias necesarias para resolver el ejercicio:\n",
    "\n",
    "- pandas\n",
    "- numpy\n",
    "- matplotlib\n",
    "- sqlite3\n"
   ]
  },
  {
   "cell_type": "code",
   "execution_count": 15,
   "id": "da5fb761",
   "metadata": {},
   "outputs": [],
   "source": [
    "import pandas as pd\n",
    "import numpy as np\n",
    "import sqlite3\n",
    "import matplotlib.pyplot as plt"
   ]
  },
  {
   "cell_type": "markdown",
   "id": "38da6c2b",
   "metadata": {},
   "source": [
    "## 1. Importacion del dataset\n",
    "\n",
    "### Se carga el archivo `datasets_calificaciones.csv` en un DataFrame.\n"
   ]
  },
  {
   "cell_type": "code",
   "execution_count": 28,
   "id": "2da6f119",
   "metadata": {},
   "outputs": [
    {
     "data": {
      "application/vnd.microsoft.datawrangler.viewer.v0+json": {
       "columns": [
        {
         "name": "index",
         "rawType": "int64",
         "type": "integer"
        },
        {
         "name": "estudiante",
         "rawType": "object",
         "type": "string"
        },
        {
         "name": "Materia",
         "rawType": "object",
         "type": "string"
        },
        {
         "name": "Parcial 1",
         "rawType": "object",
         "type": "string"
        },
        {
         "name": "Parcial 2",
         "rawType": "object",
         "type": "string"
        },
        {
         "name": "Final",
         "rawType": "object",
         "type": "unknown"
        },
        {
         "name": "Asistencia",
         "rawType": "object",
         "type": "string"
        }
       ],
       "conversionMethod": "pd.DataFrame",
       "ref": "38996e6c-d8e4-4ead-82da-1ff10eef7d70",
       "rows": [
        [
         "0",
         "ana pérez",
         "matematicas",
         "8",
         "7.5",
         "9",
         "95%"
        ],
        [
         "1",
         "carlos lópez",
         "fisica",
         "6.2",
         "7",
         null,
         "88%"
        ],
        [
         "2",
         "maría gómez",
         "quimica",
         "9",
         "8.8",
         "9.5",
         "100%"
        ],
        [
         "3",
         "pedro rodríguez",
         "historia",
         "7.5",
         "6",
         "7",
         "75"
        ],
        [
         "4",
         "laura vargas",
         "matematicas",
         " ",
         "9.2",
         "8.5",
         "92%"
        ]
       ],
       "shape": {
        "columns": 6,
        "rows": 5
       }
      },
      "text/html": [
       "<div>\n",
       "<style scoped>\n",
       "    .dataframe tbody tr th:only-of-type {\n",
       "        vertical-align: middle;\n",
       "    }\n",
       "\n",
       "    .dataframe tbody tr th {\n",
       "        vertical-align: top;\n",
       "    }\n",
       "\n",
       "    .dataframe thead th {\n",
       "        text-align: right;\n",
       "    }\n",
       "</style>\n",
       "<table border=\"1\" class=\"dataframe\">\n",
       "  <thead>\n",
       "    <tr style=\"text-align: right;\">\n",
       "      <th></th>\n",
       "      <th>estudiante</th>\n",
       "      <th>Materia</th>\n",
       "      <th>Parcial 1</th>\n",
       "      <th>Parcial 2</th>\n",
       "      <th>Final</th>\n",
       "      <th>Asistencia</th>\n",
       "    </tr>\n",
       "  </thead>\n",
       "  <tbody>\n",
       "    <tr>\n",
       "      <th>0</th>\n",
       "      <td>ana pérez</td>\n",
       "      <td>matematicas</td>\n",
       "      <td>8</td>\n",
       "      <td>7.5</td>\n",
       "      <td>9</td>\n",
       "      <td>95%</td>\n",
       "    </tr>\n",
       "    <tr>\n",
       "      <th>1</th>\n",
       "      <td>carlos lópez</td>\n",
       "      <td>fisica</td>\n",
       "      <td>6.2</td>\n",
       "      <td>7</td>\n",
       "      <td>NaN</td>\n",
       "      <td>88%</td>\n",
       "    </tr>\n",
       "    <tr>\n",
       "      <th>2</th>\n",
       "      <td>maría gómez</td>\n",
       "      <td>quimica</td>\n",
       "      <td>9</td>\n",
       "      <td>8.8</td>\n",
       "      <td>9.5</td>\n",
       "      <td>100%</td>\n",
       "    </tr>\n",
       "    <tr>\n",
       "      <th>3</th>\n",
       "      <td>pedro rodríguez</td>\n",
       "      <td>historia</td>\n",
       "      <td>7.5</td>\n",
       "      <td>6</td>\n",
       "      <td>7</td>\n",
       "      <td>75</td>\n",
       "    </tr>\n",
       "    <tr>\n",
       "      <th>4</th>\n",
       "      <td>laura vargas</td>\n",
       "      <td>matematicas</td>\n",
       "      <td></td>\n",
       "      <td>9.2</td>\n",
       "      <td>8.5</td>\n",
       "      <td>92%</td>\n",
       "    </tr>\n",
       "  </tbody>\n",
       "</table>\n",
       "</div>"
      ],
      "text/plain": [
       "        estudiante      Materia Parcial 1 Parcial 2 Final Asistencia\n",
       "0        ana pérez  matematicas         8       7.5     9        95%\n",
       "1     carlos lópez       fisica       6.2         7   NaN        88%\n",
       "2      maría gómez      quimica         9       8.8   9.5       100%\n",
       "3  pedro rodríguez     historia       7.5         6     7         75\n",
       "4     laura vargas  matematicas                 9.2   8.5        92%"
      ]
     },
     "execution_count": 28,
     "metadata": {},
     "output_type": "execute_result"
    }
   ],
   "source": [
    "df = pd.read_csv('./datasets_calificaciones.csv')\n",
    "df.head()"
   ]
  },
  {
   "cell_type": "markdown",
   "id": "d3964680",
   "metadata": {},
   "source": [
    "# 2. Exploracion de los datos\n",
    "\n",
    "### Se utilizan metodos de pandas para explorar la estructura y contenido del dataframe\n"
   ]
  },
  {
   "cell_type": "code",
   "execution_count": 29,
   "id": "2a85ece8",
   "metadata": {},
   "outputs": [
    {
     "name": "stdout",
     "output_type": "stream",
     "text": [
      "<class 'pandas.core.frame.DataFrame'>\n",
      "RangeIndex: 100 entries, 0 to 99\n",
      "Data columns (total 6 columns):\n",
      " #   Column      Non-Null Count  Dtype \n",
      "---  ------      --------------  ----- \n",
      " 0   estudiante  100 non-null    object\n",
      " 1   Materia     100 non-null    object\n",
      " 2   Parcial 1   95 non-null     object\n",
      " 3   Parcial 2   90 non-null     object\n",
      " 4   Final       89 non-null     object\n",
      " 5   Asistencia  100 non-null    object\n",
      "dtypes: object(6)\n",
      "memory usage: 4.8+ KB\n",
      "1-info basica del dataframe:  None\n",
      "\n",
      "2-estadisticas basicas del dataframe:            estudiante      Materia Parcial 1 Parcial 2 Final Asistencia\n",
      "count            100          100        95        90    89        100\n",
      "unique            96            7        49        45    46         35\n",
      "top     joaquín ruiz  matematicas                 7.5   9.5        99%\n",
      "freq               2           25         7         5     4          5\n",
      "\n",
      "3-dimension del dataframe:  (100, 6)\n",
      "\n",
      "4-nombres de las columnas:  Index(['estudiante', 'Materia', 'Parcial 1', 'Parcial 2', 'Final',\n",
      "       'Asistencia'],\n",
      "      dtype='object')\n",
      "\n",
      "5-tipos de datos:  estudiante    object\n",
      "Materia       object\n",
      "Parcial 1     object\n",
      "Parcial 2     object\n",
      "Final         object\n",
      "Asistencia    object\n",
      "dtype: object\n",
      "\n",
      "6-valores nulos:  estudiante     0\n",
      "Materia        0\n",
      "Parcial 1      5\n",
      "Parcial 2     10\n",
      "Final         11\n",
      "Asistencia     0\n",
      "dtype: int64\n",
      "\n"
     ]
    }
   ],
   "source": [
    "print(f'1-info basica del dataframe:  {df.info()}\\n' )\n",
    "print(f'2-estadisticas basicas del dataframe:  {df.describe(include=\"all\")}\\n' )\n",
    "print(f'3-dimension del dataframe:  {df.shape}\\n' )\n",
    "print(f'4-nombres de las columnas:  {df.columns}\\n' )\n",
    "print(f'5-tipos de datos:  {df.dtypes}\\n' )\n",
    "print(f'6-valores nulos:  {df.isnull().sum()}\\n' )"
   ]
  },
  {
   "cell_type": "markdown",
   "id": "f5b43796",
   "metadata": {},
   "source": [
    "# 3. limpieza de datos\n",
    "\n",
    "- se reemplazan strings vacios\n",
    "- se convierten 'calificaciones' a tipo numerico\n",
    "- se limpia y convierte 'asistencia' quitando el '%' y convirtiendo a tipo numerico.\n",
    "- se corrigen asistencias > 100%\n",
    "- los NaN restantes serán reemplazados por la media de cada columna\n",
    "\n",
    "- se verifica la limpieza con info y isnull.sum de nuevo para confirmar\n"
   ]
  },
  {
   "cell_type": "code",
   "execution_count": 38,
   "id": "cf1e2693",
   "metadata": {},
   "outputs": [
    {
     "name": "stdout",
     "output_type": "stream",
     "text": [
      "verificacion de limpieza:  \n",
      "<class 'pandas.core.frame.DataFrame'>\n",
      "RangeIndex: 100 entries, 0 to 99\n",
      "Data columns (total 6 columns):\n",
      " #   Column      Non-Null Count  Dtype  \n",
      "---  ------      --------------  -----  \n",
      " 0   estudiante  100 non-null    object \n",
      " 1   Materia     100 non-null    object \n",
      " 2   Parcial 1   100 non-null    float64\n",
      " 3   Parcial 2   100 non-null    float64\n",
      " 4   Final       100 non-null    float64\n",
      " 5   Asistencia  100 non-null    int64  \n",
      "dtypes: float64(3), int64(1), object(2)\n",
      "memory usage: 4.8+ KB\n",
      "info:  None\n",
      "valores nulos por columna:  estudiante    0\n",
      "Materia       0\n",
      "Parcial 1     0\n",
      "Parcial 2     0\n",
      "Final         0\n",
      "Asistencia    0\n",
      "dtype: int64\n",
      "head:         estudiante      Materia  Parcial 1  Parcial 2     Final  Asistencia\n",
      "0        Ana Pérez  Matematicas   8.000000        7.5  9.000000          95\n",
      "1     Carlos López       Fisica   6.200000        7.0  7.894118          88\n",
      "2      María Gómez      Quimica   9.000000        8.8  9.500000         100\n",
      "3  Pedro Rodríguez     Historia   7.500000        6.0  7.000000          75\n",
      "4     Laura Vargas  Matematicas   7.831818        9.2  8.500000          92\n"
     ]
    }
   ],
   "source": [
    "# reemplazar strings vacios\n",
    "df = df.replace(' ', np.nan)\n",
    "\n",
    "# se definen grupos de colums\n",
    "calif_cols = ['Parcial 1', 'Parcial 2', 'Final']\n",
    "asist_col = 'Asistencia'\n",
    "# columnas de texto\n",
    "text_cols = ['estudiante', 'Materia']\n",
    "# columnas numericas\n",
    "num_cols = calif_cols + [asist_col]\n",
    "\n",
    "# convertir calificaciones a numerico\n",
    "for col in calif_cols:\n",
    "    df[col] = pd.to_numeric(df[col], errors='coerce')\n",
    "\n",
    "# limpiar asistencias\n",
    "df[asist_col] = df[asist_col].astype(str).str.replace('%', '', regex=False)\n",
    "df[asist_col] = pd.to_numeric(df[asist_col], errors='coerce')\n",
    "df.loc[df[asist_col] > 100, asist_col] = 100\n",
    "\n",
    "# reemplazar valores faltantes por la media\n",
    "for col in num_cols:\n",
    "    mean = df[col].mean()\n",
    "    df[col].fillna(mean)\n",
    "\n",
    "#normalizar texto a 'title'\n",
    "for col in text_cols:\n",
    "    df[col] = df[col].str.title()\n",
    "\n",
    "print(f'verificacion de limpieza:  ' )\n",
    "print(f'info:  {df.info()}' )\n",
    "print(f'valores nulos por columna:  {df.isnull().sum()}' )\n",
    "print(f'head: {df.head()}')"
   ]
  },
  {
   "cell_type": "code",
   "execution_count": 37,
   "id": "39a952a5",
   "metadata": {},
   "outputs": [
    {
     "data": {
      "application/vnd.microsoft.datawrangler.viewer.v0+json": {
       "columns": [
        {
         "name": "index",
         "rawType": "int64",
         "type": "integer"
        },
        {
         "name": "estudiante",
         "rawType": "object",
         "type": "string"
        },
        {
         "name": "Materia",
         "rawType": "object",
         "type": "string"
        },
        {
         "name": "Parcial 1",
         "rawType": "float64",
         "type": "float"
        },
        {
         "name": "Parcial 2",
         "rawType": "float64",
         "type": "float"
        },
        {
         "name": "Final",
         "rawType": "float64",
         "type": "float"
        },
        {
         "name": "Asistencia",
         "rawType": "int64",
         "type": "integer"
        }
       ],
       "conversionMethod": "pd.DataFrame",
       "ref": "14f6c716-6676-4112-a36a-ad32c2ba569a",
       "rows": [
        [
         "95",
         "josefina torres",
         "historia",
         "7.4",
         "6.8",
         "7.2",
         "81"
        ],
        [
         "96",
         "bautista vargas",
         "matematicas",
         "8.7",
         "7.8306818181818185",
         "8.5",
         "92"
        ],
        [
         "97",
         "emma soto",
         "fisica",
         "6.6",
         "7.0",
         "6.4",
         "83"
        ],
        [
         "98",
         "mateo díaz",
         "quimica",
         "9.5",
         "9.7",
         "7.894117647058824",
         "98"
        ],
        [
         "99",
         "sofía fernández",
         "historia",
         "7.1",
         "7.6",
         "7.5",
         "87"
        ]
       ],
       "shape": {
        "columns": 6,
        "rows": 5
       }
      },
      "text/html": [
       "<div>\n",
       "<style scoped>\n",
       "    .dataframe tbody tr th:only-of-type {\n",
       "        vertical-align: middle;\n",
       "    }\n",
       "\n",
       "    .dataframe tbody tr th {\n",
       "        vertical-align: top;\n",
       "    }\n",
       "\n",
       "    .dataframe thead th {\n",
       "        text-align: right;\n",
       "    }\n",
       "</style>\n",
       "<table border=\"1\" class=\"dataframe\">\n",
       "  <thead>\n",
       "    <tr style=\"text-align: right;\">\n",
       "      <th></th>\n",
       "      <th>estudiante</th>\n",
       "      <th>Materia</th>\n",
       "      <th>Parcial 1</th>\n",
       "      <th>Parcial 2</th>\n",
       "      <th>Final</th>\n",
       "      <th>Asistencia</th>\n",
       "    </tr>\n",
       "  </thead>\n",
       "  <tbody>\n",
       "    <tr>\n",
       "      <th>95</th>\n",
       "      <td>josefina torres</td>\n",
       "      <td>historia</td>\n",
       "      <td>7.4</td>\n",
       "      <td>6.800000</td>\n",
       "      <td>7.200000</td>\n",
       "      <td>81</td>\n",
       "    </tr>\n",
       "    <tr>\n",
       "      <th>96</th>\n",
       "      <td>bautista vargas</td>\n",
       "      <td>matematicas</td>\n",
       "      <td>8.7</td>\n",
       "      <td>7.830682</td>\n",
       "      <td>8.500000</td>\n",
       "      <td>92</td>\n",
       "    </tr>\n",
       "    <tr>\n",
       "      <th>97</th>\n",
       "      <td>emma soto</td>\n",
       "      <td>fisica</td>\n",
       "      <td>6.6</td>\n",
       "      <td>7.000000</td>\n",
       "      <td>6.400000</td>\n",
       "      <td>83</td>\n",
       "    </tr>\n",
       "    <tr>\n",
       "      <th>98</th>\n",
       "      <td>mateo díaz</td>\n",
       "      <td>quimica</td>\n",
       "      <td>9.5</td>\n",
       "      <td>9.700000</td>\n",
       "      <td>7.894118</td>\n",
       "      <td>98</td>\n",
       "    </tr>\n",
       "    <tr>\n",
       "      <th>99</th>\n",
       "      <td>sofía fernández</td>\n",
       "      <td>historia</td>\n",
       "      <td>7.1</td>\n",
       "      <td>7.600000</td>\n",
       "      <td>7.500000</td>\n",
       "      <td>87</td>\n",
       "    </tr>\n",
       "  </tbody>\n",
       "</table>\n",
       "</div>"
      ],
      "text/plain": [
       "         estudiante      Materia  Parcial 1  Parcial 2     Final  Asistencia\n",
       "95  josefina torres     historia        7.4   6.800000  7.200000          81\n",
       "96  bautista vargas  matematicas        8.7   7.830682  8.500000          92\n",
       "97        emma soto       fisica        6.6   7.000000  6.400000          83\n",
       "98       mateo díaz      quimica        9.5   9.700000  7.894118          98\n",
       "99  sofía fernández     historia        7.1   7.600000  7.500000          87"
      ]
     },
     "execution_count": 37,
     "metadata": {},
     "output_type": "execute_result"
    }
   ],
   "source": [
    "df.tail()"
   ]
  },
  {
   "cell_type": "code",
   "execution_count": 16,
   "id": "f1147813",
   "metadata": {},
   "outputs": [
    {
     "name": "stdout",
     "output_type": "stream",
     "text": [
      "shape: (100, 6)\n",
      "columns: Index(['estudiante', 'Materia', 'Parcial 1', 'Parcial 2', 'Final',\n",
      "       'Asistencia'],\n",
      "      dtype='object')\n",
      "dtypes: estudiante    object\n",
      "Materia       object\n",
      "Parcial 1     object\n",
      "Parcial 2     object\n",
      "Final         object\n",
      "Asistencia    object\n",
      "dtype: object\n"
     ]
    }
   ],
   "source": [
    "print(f'shape: {df.shape}')\n",
    "print(f'columns: {df.columns}')\n",
    "\n",
    "print(f'dtypes: {df.dtypes}')"
   ]
  },
  {
   "cell_type": "code",
   "execution_count": null,
   "id": "93539dca",
   "metadata": {},
   "outputs": [
    {
     "data": {
      "text/plain": [
       "estudiante     0\n",
       "Materia        0\n",
       "Parcial 1      5\n",
       "Parcial 2     10\n",
       "Final         11\n",
       "Asistencia     0\n",
       "dtype: int64"
      ]
     },
     "execution_count": 20,
     "metadata": {},
     "output_type": "execute_result"
    }
   ],
   "source": [
    "#contar valores nulos por columna\n",
    "df.isnull().sum()"
   ]
  },
  {
   "cell_type": "code",
   "execution_count": 24,
   "id": "5426eca5",
   "metadata": {},
   "outputs": [
    {
     "name": "stdout",
     "output_type": "stream",
     "text": [
      "  Parcial 1: 7\n",
      "  Parcial 2: 2\n",
      "  Final: 4\n"
     ]
    }
   ],
   "source": [
    "for col in ['Parcial 1', 'Parcial 2', 'Final']:\n",
    "    empty_strings = df[col].apply(lambda x: isinstance(x, str) and x.strip() == '').sum()\n",
    "    print(f\"  {col}: {empty_strings}\")"
   ]
  },
  {
   "cell_type": "code",
   "execution_count": null,
   "id": "9f6c0649",
   "metadata": {},
   "outputs": [],
   "source": [
    "df.replace(' ', np.nan, inplace=True)\n",
    "\n",
    "calif_cols = ['Parcial 1', 'Parcial 2', 'Final']\n",
    "asist_col = 'Asistencia'\n",
    "text_cols = ['estudiante', 'Materia']\n",
    "\n",
    "# convert calificaciones a num\n",
    "for col in calif_cols:\n",
    "    df[col] = pd.to_numeric(df[col], errors='coerce')\n",
    "\n",
    "# limpiar asistencia\n",
    "df[asist_col] = df[asist_col].astype(str).str.replace('%', '', regex=False)\n",
    "df[asist_col] = pd.to_numeric(df[asist_col], errors='coerce')\n",
    "\n",
    "# corregir asistencia > 100\n",
    "df.loc[df[asist_col] > 100, asist_col] = 100\n",
    "\n",
    "# rellenar NaN con la mediana en columnas numéricas\n",
    "num_cols = calif_cols + [asist_col]\n",
    "for col in num_cols:\n",
    "    df[col].fillna(df[col].median(), inplace=True)\n",
    "\n",
    "# poner nombres en formato título\n",
    "for col in text_cols:\n",
    "    df[col] = df[col].str.title()\n",
    "\n",
    "print(\"\\ninfo después de limpiar:\")\n",
    "df.info()\n",
    "print(\"\\nnulos después de limpiar:\")\n",
    "print(df.isnull().sum())\n",
    "print(\"\\ndatos limpios:\")\n",
    "print(df.head())"
   ]
  },
  {
   "cell_type": "code",
   "execution_count": 25,
   "id": "d571ef9e",
   "metadata": {},
   "outputs": [
    {
     "name": "stdout",
     "output_type": "stream",
     "text": [
      "\n",
      "Estadísticas descriptivas:\n"
     ]
    },
    {
     "ename": "NameError",
     "evalue": "name 'num_cols' is not defined",
     "output_type": "error",
     "traceback": [
      "\u001b[31m---------------------------------------------------------------------------\u001b[39m",
      "\u001b[31mNameError\u001b[39m                                 Traceback (most recent call last)",
      "\u001b[36mCell\u001b[39m\u001b[36m \u001b[39m\u001b[32mIn[25]\u001b[39m\u001b[32m, line 2\u001b[39m\n\u001b[32m      1\u001b[39m \u001b[38;5;28mprint\u001b[39m(\u001b[33m\"\u001b[39m\u001b[38;5;130;01m\\n\u001b[39;00m\u001b[33mEstadísticas descriptivas:\u001b[39m\u001b[33m\"\u001b[39m)\n\u001b[32m----> \u001b[39m\u001b[32m2\u001b[39m \u001b[38;5;28mprint\u001b[39m(df[\u001b[43mnum_cols\u001b[49m].describe())\n\u001b[32m      4\u001b[39m \u001b[38;5;28mprint\u001b[39m(\u001b[33m\"\u001b[39m\u001b[38;5;130;01m\\n\u001b[39;00m\u001b[33mMedia por materia:\u001b[39m\u001b[33m\"\u001b[39m)\n\u001b[32m      5\u001b[39m \u001b[38;5;28mprint\u001b[39m(df.groupby(\u001b[33m'\u001b[39m\u001b[33mMateria\u001b[39m\u001b[33m'\u001b[39m)[num_cols].mean())\n",
      "\u001b[31mNameError\u001b[39m: name 'num_cols' is not defined"
     ]
    }
   ],
   "source": [
    "print(\"\\nEstadísticas descriptivas:\")\n",
    "print(df[num_cols].describe())\n",
    "\n",
    "print(\"\\nMedia por materia:\")\n",
    "print(df.groupby('Materia')[num_cols].mean())"
   ]
  }
 ],
 "metadata": {
  "kernelspec": {
   "display_name": "base",
   "language": "python",
   "name": "python3"
  },
  "language_info": {
   "codemirror_mode": {
    "name": "ipython",
    "version": 3
   },
   "file_extension": ".py",
   "mimetype": "text/x-python",
   "name": "python",
   "nbconvert_exporter": "python",
   "pygments_lexer": "ipython3",
   "version": "3.12.7"
  }
 },
 "nbformat": 4,
 "nbformat_minor": 5
}
